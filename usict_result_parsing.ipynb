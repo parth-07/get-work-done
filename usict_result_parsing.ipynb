{
 "cells": [
  {
   "cell_type": "code",
   "execution_count": 57,
   "metadata": {},
   "outputs": [],
   "source": [
    "import tabula\n",
    "import numpy as np\n",
    "import pandas as pd\n",
    "import os \n",
    "from pathlib import Path\n",
    "import PyPDF2\n",
    "import re\n",
    "import requests\n",
    "import json"
   ]
  },
  {
   "cell_type": "code",
   "execution_count": 92,
   "metadata": {},
   "outputs": [],
   "source": [
    "filenames = [\n",
    "             os.path.expanduser('/home/parth/Documents/USICT/it_res.pdf'),\n",
    "             os.path.expanduser('/home/parth/Documents/USICT/cse_res.pdf'),\n",
    "             os.path.expanduser('/home/parth/Documents/USICT/ece_res.pdf')]"
   ]
  },
  {
   "cell_type": "code",
   "execution_count": 93,
   "metadata": {},
   "outputs": [],
   "source": [
    "scheme_reg = re.compile(r'scheme\\s+of\\s+examinations',re.IGNORECASE)\n",
    "institution_reg = re.compile(r'institution\\s*:\\s*([\\w\\n(,)& ]+)\\nS\\.No',re.IGNORECASE)\n",
    "sem_reg = re.compile(r'se\\s?m[.//\\w\\n]+:\\s+([\\w\\n]+)',re.IGNORECASE)\n",
    "programme_reg = re.compile(r'programme\\s+name:\\s+([\\w(,)& \\n]+)SchemeID',re.IGNORECASE)\n",
    "branch_reg = re.compile(r'[\\w &]+\\(([\\w ]+)\\)')"
   ]
  },
  {
   "cell_type": "code",
   "execution_count": 90,
   "metadata": {},
   "outputs": [],
   "source": [
    "def get_info(text) :\n",
    "    college = institution_reg.search(text)[1].replace('\\n','').strip().title()\n",
    "    semester = int(sem_reg.search(text)[1].replace('\\n','').strip())\n",
    "    course = programme_reg.search(text)[1].replace('\\n','').strip().title()\n",
    "    branch = branch_reg.search(course)[1].strip().title()\n",
    "    course = course[0:course.find('(')].strip()\n",
    "    info = {\n",
    "        'college' : college,\n",
    "        'semester' : semester,\n",
    "        'course' : course,\n",
    "        'branch' : branch,\n",
    "    }\n",
    "    return info"
   ]
  },
  {
   "cell_type": "code",
   "execution_count": 96,
   "metadata": {},
   "outputs": [],
   "source": [
    "# SITE = \"https://cgpa-book.herokuapp.com/academia\"\n",
    "SITE = \"http://localhost:3000/academia\""
   ]
  },
  {
   "cell_type": "code",
   "execution_count": 98,
   "metadata": {},
   "outputs": [
    {
     "name": "stdout",
     "output_type": "stream",
     "text": [
      "<Response [200]> b'OK'\n"
     ]
    }
   ],
   "source": [
    "#Add college\n",
    "data ={ \n",
    "    'college' : {\n",
    "        'college' : \"University School Of Information, Communication & Technology (Formerly Usit)\"\n",
    "        }\n",
    "}\n",
    "r = requests.post(SITE+\"/college\",json=data)\n",
    "print(r,r.content)\n"
   ]
  },
  {
   "cell_type": "code",
   "execution_count": 99,
   "metadata": {},
   "outputs": [],
   "source": [
    "def already_exists(info) :\n",
    "    r = requests.get(SITE+\"/semester\",json=info)\n",
    "    content = json.loads(r.content)\n",
    "#     print(r.status_code,r.content)\n",
    "    return r.status_code == 200 and content != {}\n",
    "    "
   ]
  },
  {
   "cell_type": "code",
   "execution_count": 100,
   "metadata": {},
   "outputs": [],
   "source": [
    "def getSubjects(df) :\n",
    "    subjects = []\n",
    "    for index,row in df.iterrows() :\n",
    "        subject = {}\n",
    "        subject['subject'] = row['Subject'].strip().title()\n",
    "        subject['subjectCode'] = row['Code']\n",
    "        subject['credits'] = row['Credit']\n",
    "        subjects.append(subject)\n",
    "    return subjects"
   ]
  },
  {
   "cell_type": "code",
   "execution_count": null,
   "metadata": {},
   "outputs": [
    {
     "name": "stdout",
     "output_type": "stream",
     "text": [
      "/home/parth/Documents/USICT/it_res.pdf 58\n",
      "<Response [400]> b'{\"type\":\"ValueError\",\"message\":\"College validation failed: courses.0.branches.0.semesters: Semester already exists\"}'\n",
      "<Response [400]> b'{\"type\":\"ValueError\",\"message\":\"College validation failed: courses.0.branches.0.semesters: Semester already exists\"}'\n",
      "<Response [400]> b'{\"type\":\"ValueError\",\"message\":\"College validation failed: courses.0.branches.0.semesters: Semester already exists\"}'\n",
      "<Response [400]> b'{\"type\":\"ValueError\",\"message\":\"College validation failed: courses.0.branches.0.semesters: Semester already exists\"}'\n",
      "<Response [400]> b'{\"type\":\"ValueError\",\"message\":\"College validation failed: courses.0.branches.0.semesters: Semester already exists\"}'\n",
      "<Response [400]> b'{\"type\":\"ValueError\",\"message\":\"College validation failed: courses.0.branches.0.semesters: Semester already exists\"}'\n",
      "<Response [400]> b'{\"type\":\"ValueError\",\"message\":\"College validation failed: courses.0.branches.0.semesters: Semester already exists\"}'\n",
      "<Response [400]> b'{\"type\":\"ValueError\",\"message\":\"College validation failed: courses.0.branches.0.semesters: Semester already exists\"}'\n",
      "<Response [400]> b'{\"type\":\"ValueError\",\"message\":\"College validation failed: courses.0.branches.0.semesters: Semester already exists\"}'\n",
      "<Response [400]> b'{\"type\":\"ValueError\",\"message\":\"College validation failed: courses.0.branches.0.semesters: Semester already exists\"}'\n",
      "<Response [400]> b'{\"type\":\"ValueError\",\"message\":\"College validation failed: courses.0.branches.0.semesters: Semester already exists\"}'\n",
      "<Response [400]> b'{\"type\":\"ValueError\",\"message\":\"College validation failed: courses.0.branches.0.semesters: Semester already exists\"}'\n",
      "<Response [400]> b'{\"type\":\"ValueError\",\"message\":\"College validation failed: courses.0.branches.0.semesters: Semester already exists\"}'\n",
      "<Response [400]> b'{\"type\":\"ValueError\",\"message\":\"College validation failed: courses.0.branches.0.semesters: Semester already exists\"}'\n",
      "<Response [400]> b'{\"type\":\"ValueError\",\"message\":\"College validation failed: courses.0.branches.0.semesters: Semester already exists\"}'\n",
      "<Response [400]> b'{\"type\":\"ValueError\",\"message\":\"College validation failed: courses.0.branches.0.semesters: Semester already exists\"}'\n",
      "<Response [400]> b'{\"type\":\"ValueError\",\"message\":\"College validation failed: courses.0.branches.0.semesters: Semester already exists\"}'\n",
      "<Response [400]> b'{\"type\":\"ValueError\",\"message\":\"College validation failed: courses.0.branches.0.semesters: Semester already exists\"}'\n",
      "<Response [400]> b'{\"type\":\"ValueError\",\"message\":\"College validation failed: courses.0.branches.0.semesters: Semester already exists\"}'\n",
      "<Response [400]> b'{\"type\":\"ValueError\",\"message\":\"College validation failed: courses.0.branches.0.semesters: Semester already exists\"}'\n",
      "<Response [400]> b'{\"type\":\"ValueError\",\"message\":\"College validation failed: courses.0.branches.0.semesters: Semester already exists\"}'\n",
      "/home/parth/Documents/USICT/cse_res.pdf 58\n",
      "<Response [200]> b'OK'\n"
     ]
    }
   ],
   "source": [
    "for filename in filenames :\n",
    "    pdf = PyPDF2.PdfFileReader(filename)\n",
    "    print(filename,pdf.getNumPages())\n",
    "    \n",
    "    for i in range(0,pdf.getNumPages()) :\n",
    "        text = pdf.getPage(i).extractText()\n",
    "        if scheme_reg.search(text) :\n",
    "            info = get_info(text)\n",
    "            df = tabula.read_pdf(filename,pages=i+1)\n",
    "            subjects = getSubjects(df[0])        \n",
    "            if already_exists(info) :\n",
    "                print(\"information already exists\")\n",
    "                continue\n",
    "            info['semester'] = {'semester' : info['semester'], 'subjects' : subjects}\n",
    "            r = requests.post(SITE+\"/semester\",json=info)\n",
    "            print(r,r.content)\n",
    "#             print(info)\n",
    "\n",
    "    "
   ]
  },
  {
   "cell_type": "code",
   "execution_count": null,
   "metadata": {},
   "outputs": [],
   "source": [
    "data = {\n",
    "    'college' : 'University School Of Information, Communication & Technology (Formerly Usit)',\n",
    "    'course' : {\n",
    "        'course' : 'Bachelor Of Technology'\n",
    "    }\n",
    "}\n",
    "r = requests.post(SITE+'/course',json=data)\n",
    "print(r.status_code,r.content)"
   ]
  },
  {
   "cell_type": "code",
   "execution_count": null,
   "metadata": {},
   "outputs": [],
   "source": [
    "from IPython.display import display,HTML"
   ]
  },
  {
   "cell_type": "code",
   "execution_count": null,
   "metadata": {},
   "outputs": [],
   "source": [
    "dfs = tabula.read_pdf(filename,pages='all')"
   ]
  },
  {
   "cell_type": "code",
   "execution_count": null,
   "metadata": {},
   "outputs": [],
   "source": [
    "dd'Subject' in dfs[0].columns"
   ]
  },
  {
   "cell_type": "code",
   "execution_count": null,
   "metadata": {},
   "outputs": [],
   "source": [
    "display(dfs[0])"
   ]
  },
  {
   "cell_type": "code",
   "execution_count": null,
   "metadata": {},
   "outputs": [],
   "source": [
    "t"
   ]
  },
  {
   "cell_type": "code",
   "execution_count": null,
   "metadata": {},
   "outputs": [],
   "source": []
  }
 ],
 "metadata": {
  "kernelspec": {
   "display_name": "Python 3",
   "language": "python",
   "name": "python3"
  },
  "language_info": {
   "codemirror_mode": {
    "name": "ipython",
    "version": 3
   },
   "file_extension": ".py",
   "mimetype": "text/x-python",
   "name": "python",
   "nbconvert_exporter": "python",
   "pygments_lexer": "ipython3",
   "version": "3.8.2"
  }
 },
 "nbformat": 4,
 "nbformat_minor": 4
}
